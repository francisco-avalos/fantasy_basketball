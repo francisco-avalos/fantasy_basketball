{
 "cells": [
  {
   "cell_type": "code",
   "execution_count": null,
   "id": "743126f7",
   "metadata": {},
   "outputs": [],
   "source": [
    "import dash\n",
    "from dash import dcc\n",
    "from dash import html\n",
    "import plotly.graph_objects as go\n",
    "import plotly.express as px\n",
    "from dash.dependencies import Input, Output\n",
    "\n"
   ]
  },
  {
   "cell_type": "code",
   "execution_count": 2,
   "id": "75abcc32",
   "metadata": {},
   "outputs": [],
   "source": [
    "app=dash.Dash()\n",
    "df=px.data.stocks()"
   ]
  },
  {
   "cell_type": "code",
   "execution_count": 3,
   "id": "e07faf02",
   "metadata": {},
   "outputs": [],
   "source": [
    "def stock_prices():\n",
    "    fig=go.Figure([go.Scatter(x=df['date'], y=df['GOOG'],\n",
    "                              line=dict(color='firebrick', width=4),name='Google')])\n",
    "    fig.update_layout(title='Prices over time',\n",
    "                     xaxis_title='Dates', yaxis_title='Prices')\n",
    "    return fig"
   ]
  },
  {
   "cell_type": "code",
   "execution_count": 4,
   "id": "bf7e1113",
   "metadata": {},
   "outputs": [],
   "source": [
    "app.layout=html.Div(id='parent',\n",
    "                    children=[html.H1(id='H1', \n",
    "                                      children='Styling using html components',\n",
    "                                      style={'testAlign':'center', 'marginTop':40,'marginBottom':40}),\n",
    "                              dcc.Dropdown(id='dropdown',options=[{'label':'GOOGLE', 'value':'GOOG'},{'label':'Apple', 'value':'APPL'},{'label':'Amazon', 'value':'AMZN'}],value='GOOG'),\n",
    "                             dcc.Graph(id='line_plot', figure=stock_prices())])\n"
   ]
  },
  {
   "cell_type": "code",
   "execution_count": 5,
   "id": "41c8738c",
   "metadata": {},
   "outputs": [],
   "source": [
    "@app.callback(Output(component_id='line_plot', component_property='figure'),\n",
    "             [Input(component_id='dropdown', component_property='value')])\n",
    "def graph_update(dropdown_value):\n",
    "    print(dropdown_value)\n",
    "    fig=go.Figure([go.Scatter(x=df['date'],y=df['{}'.format(dropdown_value)],\n",
    "                             line=dict(color='firebrick', width=4))])\n",
    "    fig.update_layout(title='Stock prices over time',\n",
    "                     xaxis_title='Date',\n",
    "                     yaxis_title='Prices')\n",
    "    return fig\n"
   ]
  },
  {
   "cell_type": "code",
   "execution_count": 54,
   "id": "7d4aa874",
   "metadata": {},
   "outputs": [],
   "source": [
    "if __name__ == '__main__': \n",
    "    app.run_server()"
   ]
  },
  {
   "cell_type": "code",
   "execution_count": 1,
   "id": "16b610e8",
   "metadata": {},
   "outputs": [],
   "source": [
    "exit"
   ]
  },
  {
   "cell_type": "code",
   "execution_count": null,
   "id": "3dd0eabd",
   "metadata": {},
   "outputs": [],
   "source": []
  },
  {
   "cell_type": "markdown",
   "id": "cf541eb9",
   "metadata": {},
   "source": [
    "# Stand up heat map"
   ]
  },
  {
   "cell_type": "code",
   "execution_count": 1,
   "id": "5226ab7e",
   "metadata": {},
   "outputs": [],
   "source": [
    "import dash\n",
    "from dash import dcc\n",
    "from dash import html\n",
    "import plotly.graph_objects as go\n",
    "import plotly.express as px\n",
    "from dash.dependencies import Input, Output\n",
    "\n",
    "import mysql.connector as mysql\n",
    "import pandas as pd\n",
    "from mysql.connector import Error\n",
    "import datetime as dt\n"
   ]
  },
  {
   "cell_type": "markdown",
   "id": "5c08c489",
   "metadata": {},
   "source": [
    "### get data"
   ]
  },
  {
   "cell_type": "code",
   "execution_count": 2,
   "id": "f3691311",
   "metadata": {},
   "outputs": [],
   "source": [
    "pd.set_option('display.max_columns', None)\n",
    "pd.set_option('display.max_rows', None)"
   ]
  },
  {
   "cell_type": "code",
   "execution_count": 4,
   "id": "5c39ae04",
   "metadata": {},
   "outputs": [],
   "source": [
    "exec(open('/Users/franciscoavalosjr/Desktop/basketball-creds.py').read())\n",
    "\n",
    "connection=mysql.connect(host=sports_db_admin_host,\n",
    "                        database=sports_db_admin_db,\n",
    "                        user=sports_db_admin_user,\n",
    "                        password=sports_db_admin_pw,\n",
    "                        port=3306)"
   ]
  },
  {
   "cell_type": "code",
   "execution_count": 5,
   "id": "79f407fd",
   "metadata": {},
   "outputs": [],
   "source": [
    "if connection.is_connected():\n",
    "    cursor=connection.cursor()\n",
    "    cursor.execute('SELECT MTS.*, C.week_starting_monday, C.week_ending_sunday FROM basketball.my_team_stats MTS JOIN basketball.calendar C ON MTS.date=C.day;')\n",
    "    myteam_df=cursor.fetchall()\n",
    "    myteam_df=pd.DataFrame(myteam_df, columns=cursor.column_names)"
   ]
  },
  {
   "cell_type": "code",
   "execution_count": 6,
   "id": "f661d0c2",
   "metadata": {},
   "outputs": [],
   "source": [
    "if connection.is_connected():\n",
    "    cursor=connection.cursor()\n",
    "    cursor.execute('SELECT * FROM basketball.live_free_agents;')\n",
    "    fa_df=cursor.fetchall()\n",
    "    fa_df=pd.DataFrame(fa_df, columns=cursor.column_names)"
   ]
  },
  {
   "cell_type": "code",
   "execution_count": 7,
   "id": "e49ec6b3",
   "metadata": {},
   "outputs": [
    {
     "name": "stdout",
     "output_type": "stream",
     "text": [
      "Script finished - MySQL connection is closed\n"
     ]
    }
   ],
   "source": [
    "if(connection.is_connected()):\n",
    "    cursor.close()\n",
    "    connection.close()\n",
    "    print('Script finished - MySQL connection is closed')\n",
    "else:\n",
    "    print('MySQL already closed')"
   ]
  },
  {
   "cell_type": "code",
   "execution_count": 8,
   "id": "1759d331",
   "metadata": {},
   "outputs": [],
   "source": [
    "myteam_df['total_rebounds']=myteam_df['offensive_rebounds']+myteam_df['defensive_rebounds']\n",
    "myteam_df['minutes_played']=myteam_df['seconds_played']/60\n",
    "\n",
    "fa_df['total_rebounds']=fa_df['offensive_rebounds']+fa_df['defensive_rebounds']\n",
    "fa_df['minutes_played']=fa_df['seconds_played']/60"
   ]
  },
  {
   "cell_type": "code",
   "execution_count": 53,
   "id": "edcecc7d",
   "metadata": {},
   "outputs": [],
   "source": [
    "# myteam_df.sort_values('date', ascending=False)\n",
    "# myteam_df.shape\n",
    "fa_df.head()"
   ]
  },
  {
   "cell_type": "code",
   "execution_count": 52,
   "id": "0c1cda0e",
   "metadata": {},
   "outputs": [],
   "source": [
    "# myteam_df.head()\n",
    "cols=['made_field_goals', 'made_three_point_field_goals','made_free_throws', \n",
    "      'total_rebounds', 'offensive_rebounds', 'defensive_rebounds', 'assists', \n",
    "      'steals', 'blocks', 'turnovers', 'personal_fouls', 'points_scored', 'minutes_played'\n",
    "     ]\n",
    "\n",
    "focus_value='made_field_goals'\n",
    "calc='sum'\n",
    "player_sample=20\n",
    "days_ago=7\n",
    "\n",
    "today=dt.date.today()\n",
    "days_back=today-dt.timedelta(days=days_ago)\n",
    "# calc_presentation='Standard Deviation' if calc=='std' else 'Average' if calc=='Mean' else 'Total'\n",
    "\n",
    "\n",
    "# sn.set(rc={'figure.figsize':(15,8)})\n",
    "\n",
    "df_query=fa_df.query(\"date >= @days_back\")\n",
    "output=df_query.groupby(['name'])[cols].agg(calc).reset_index().sort_values(by=[focus_value],ascending=False).head(player_sample)\n",
    "\n",
    "output.set_index(['name'], inplace=True, drop=True, append=False)\n",
    "output.reset_index(inplace=False)\n",
    "cmap='Spectral_r'\n",
    "# sn.heatmap(output.iloc[:,0:len(output)-1], annot=True, cmap=cmap)\n",
    "\n",
    "# plt.suptitle(f'Past {days_ago} day(s) - {calc_presentation} Analysis')\n",
    "# plt.title(f'{focus_value} leading')\n",
    "# plt.show()\n",
    "\n",
    "fig=px.imshow(output, text_auto=True)\n",
    "fig.update_xaxes(side='top')\n",
    "fig.layout.height=800\n",
    "fig.layout.width=800\n",
    "fig.show()\n",
    "\n",
    "\n",
    "# output.shape\n",
    "\n",
    "\n",
    "\n"
   ]
  },
  {
   "cell_type": "code",
   "execution_count": 44,
   "id": "c5cfc76e",
   "metadata": {},
   "outputs": [
    {
     "data": {
      "text/plain": [
       "['made_field_goals', 'made_three_point_field_goals']"
      ]
     },
     "execution_count": 44,
     "metadata": {},
     "output_type": "execute_result"
    }
   ],
   "source": [
    "imps=[\n",
    " 'made_field_goals',\n",
    " 'made_three_point_field_goals',\n",
    " 'made_free_throws',\n",
    " 'offensive_rebounds',\n",
    " 'defensive_rebounds',\n",
    " 'assists',\n",
    " 'steals',\n",
    " 'blocks',\n",
    " 'turnovers',\n",
    " 'personal_fouls',\n",
    " 'points_scored',\n",
    " 'total_rebounds']\n",
    "imps2=[\n",
    " 'made_field_goals',\n",
    " 'made_three_point_field_goals']\n",
    "\n",
    "lst=[x for x in imps2 for a in imps if a in x]\n",
    "lst"
   ]
  },
  {
   "cell_type": "code",
   "execution_count": 51,
   "id": "e918e840",
   "metadata": {
    "scrolled": true
   },
   "outputs": [],
   "source": [
    "##### IM A TEST!!!!\n",
    "# myteam_df.head()\n",
    "\n",
    "cols=['made_field_goals', 'made_three_point_field_goals','made_free_throws', \n",
    "      'total_rebounds', 'offensive_rebounds', 'defensive_rebounds', 'assists', \n",
    "      'steals', 'blocks', 'turnovers', 'personal_fouls', 'points_scored', 'minutes_played'\n",
    "     ]\n",
    "\n",
    "imps=[\n",
    " 'made_field_goals',\n",
    " 'made_three_point_field_goals',\n",
    " 'made_free_throws',\n",
    " 'offensive_rebounds',\n",
    " 'defensive_rebounds',\n",
    " 'assists',\n",
    " 'steals',\n",
    " 'blocks',\n",
    " 'turnovers',\n",
    " 'personal_fouls',\n",
    " 'points_scored',\n",
    " 'total_rebounds']\n",
    "\n",
    "focus_value='made_field_goals'\n",
    "calc='sum'\n",
    "player_sample=20\n",
    "days_ago=14\n",
    "\n",
    "today=dt.date.today()\n",
    "days_back=today-dt.timedelta(days=days_ago)\n",
    "# calc_presentation='Standard Deviation' if calc=='std' else 'Average' if calc=='Mean' else 'Total'\n",
    "\n",
    "# import numpy as np\n",
    "# def w_avg(df, values, weights):\n",
    "#     d=df[values]\n",
    "#     w=df[weights]\n",
    "#     return (d*w).sum()/w.sum()\n",
    "\n",
    "# def weighted(df, cols, weights='minutes_played'):\n",
    "#     return pd.Series(np.average(df[cols], df[weights], axis=0), cols)\n",
    "\n",
    "\n",
    "# sn.set(rc={'figure.figsize':(15,8)})\n",
    "\n",
    "df_query=fa_df.query(\"date >= @days_back\")\n",
    "# df_query.groupby(['name']).apply(w_avg, 'points_scored', 'minutes_played')\n",
    "# df_query.groupby(['name']).apply(w_avg, ['made_field_goals',\n",
    "#                                          'made_three_point_field_goals'], 'minutes_played')\n",
    "output=df_query.groupby(['name']).apply(lambda x: pd.Series([sum(x[v]*x.minutes_played)/sum(x.minutes_played) for v in imps]))\n",
    "# output=pd.DataFrame(output)\n",
    "# output.columns=imps\n",
    "# output.set_index(['name'], inplace=True, drop=True, append=False)\n",
    "# output.reset_index(inplace=False)\n",
    "output\n",
    "\n",
    "# [col for col in df_query.columns[:]]\n",
    "# output=df_query.groupby(['name'])[cols].agg(calc).reset_index().sort_values(by=[focus_value],ascending=False).head(player_sample)\n",
    "\n",
    "# output.set_index(['name'], inplace=True, drop=True, append=False)\n",
    "# output.reset_index(inplace=False)\n",
    "# output\n",
    "# cmap='Spectral_r'\n",
    "# # sn.heatmap(output.iloc[:,0:len(output)-1], annot=True, cmap=cmap)\n",
    "\n",
    "# # plt.suptitle(f'Past {days_ago} day(s) - {calc_presentation} Analysis')\n",
    "# # plt.title(f'{focus_value} leading')\n",
    "# # plt.show()\n",
    "\n",
    "# fig=px.imshow(output, text_auto=True)\n",
    "# fig.update_xaxes(side='top')\n",
    "# fig.layout.height=800\n",
    "# fig.layout.width=800\n",
    "# fig.show()\n",
    "\n",
    "\n",
    "# # output.shape\n",
    "\n",
    "\n",
    "\n"
   ]
  },
  {
   "cell_type": "code",
   "execution_count": 10,
   "id": "100aeb00",
   "metadata": {},
   "outputs": [],
   "source": [
    "# short_df = output.iloc[:,0:len(output)-1]\n",
    "short_df = output.iloc[:,0:len(output)]"
   ]
  },
  {
   "cell_type": "code",
   "execution_count": 11,
   "id": "fab64581",
   "metadata": {},
   "outputs": [
    {
     "data": {
      "text/plain": [
       "(20, 13)"
      ]
     },
     "execution_count": 11,
     "metadata": {},
     "output_type": "execute_result"
    }
   ],
   "source": [
    "short_df.shape"
   ]
  },
  {
   "cell_type": "code",
   "execution_count": 12,
   "id": "8d4cb89c",
   "metadata": {},
   "outputs": [],
   "source": [
    "# fig=px.imshow(short_df, text_auto=True)\n",
    "# fig.layout.height=750\n",
    "# fig.layout.width=750\n",
    "# fig.show()"
   ]
  },
  {
   "cell_type": "code",
   "execution_count": 13,
   "id": "79169a96",
   "metadata": {},
   "outputs": [],
   "source": [
    "def player_stats():\n",
    "    fig=px.imshow(short_df, text_auto=True)\n",
    "    fig.update_xaxes(side='top')\n",
    "    fig.layout.height=800\n",
    "    fig.layout.width=800\n",
    "    return fig\n"
   ]
  },
  {
   "cell_type": "code",
   "execution_count": 14,
   "id": "3a6ca60f",
   "metadata": {},
   "outputs": [],
   "source": [
    "# player_stats()"
   ]
  },
  {
   "cell_type": "code",
   "execution_count": 15,
   "id": "5b421b2a",
   "metadata": {},
   "outputs": [],
   "source": [
    "app=dash.Dash()"
   ]
  },
  {
   "cell_type": "code",
   "execution_count": 16,
   "id": "ce0064b0",
   "metadata": {},
   "outputs": [],
   "source": [
    "app.layout=html.Div(children=[dcc.Graph(figure=player_stats(), id='line_plot'),\n",
    "                              'How many days back?',\n",
    "                              dcc.Input(id='my_input', value=7, type='integer'),\n",
    "                              'Focus Field\\n',\n",
    "                             dcc.Dropdown(id='dropdown',\n",
    "                                         options=[{'label':'Made Field Goals','value':'made_field_goals'},\n",
    "                                                  {'label':'Made 3p Field Goals','value':'made_three_point_field_goals'},\n",
    "                                                  {'label':'Made Free Throws','value':'made_free_throws'},\n",
    "                                                  {'label':'Total Rebounds','value':'total_rebounds'},\n",
    "                                                  {'label':'Offensive Rebounds','value':'offensive_rebounds'},\n",
    "                                                  {'label':'Defensive Rebounds','value':'defensive_rebounds'},\n",
    "                                                  {'label':'Assists','value':'assists'},\n",
    "                                                  {'label':'Steals','value':'steals'},\n",
    "                                                  {'label':'Blocks','value':'blocks'},\n",
    "                                                  {'label':'Turnovers','value':'turnovers'},\n",
    "                                                  {'label':'Personal Fouls','value':'personal_fouls'},\n",
    "                                                  {'label':'Points','value':'points_scored'},\n",
    "                                                  {'label':'Minutes Played','value':'minutes_played'}],\n",
    "                                         value='made_field_goals'),\n",
    "                              'Calculation type',\n",
    "                              dcc.Dropdown(id='calculation', \n",
    "                                          options=[{'label':'Total', 'value':'sum'},\n",
    "                                                   {'label':'Average(non-weighted))', 'value':'mean'},\n",
    "                                                   {'label':'Standard Deviation', 'value':'std'}],\n",
    "                                          value='sum'),\n",
    "                              'Fields to display',\n",
    "                             dcc.Checklist(id='displayed_fields', \n",
    "                                           options=['made_field_goals', 'made_three_point_field_goals',\n",
    "                                                    'made_free_throws','total_rebounds', 'offensive_rebounds', \n",
    "                                                    'defensive_rebounds', 'assists','steals', 'blocks', \n",
    "                                                    'turnovers', 'personal_fouls', 'points_scored', 'minutes_played'],\n",
    "                                          value=['made_field_goals', 'made_three_point_field_goals',\n",
    "                                                    'made_free_throws','total_rebounds', 'offensive_rebounds', \n",
    "                                                    'defensive_rebounds', 'assists','steals', 'blocks', \n",
    "                                                    'turnovers', 'personal_fouls']),\n",
    "                              'Number of players',\n",
    "                             dcc.Input(id='top_n', value=5, type='integer')\n",
    "                             ])\n",
    "\n"
   ]
  },
  {
   "cell_type": "code",
   "execution_count": 17,
   "id": "f253686c",
   "metadata": {},
   "outputs": [],
   "source": [
    "@app.callback(Output(component_id='line_plot', component_property='figure'),\n",
    "             Input(component_id='my_input', component_property='value'),\n",
    "             Input(component_id='dropdown', component_property='value'),\n",
    "             Input(component_id='calculation', component_property='value'),\n",
    "             Input(component_id='displayed_fields', component_property='value'),\n",
    "             Input(component_id='top_n', component_property='value')\n",
    "             )\n",
    "\n",
    "# def graph_update(input_value, focus_field_value, display_field, calculation_focus):\n",
    "def graph_update(input_value, focus_field_value, calc_value, display_field, top_n_val):\n",
    "#     print(input_value)\n",
    "#     print(type(input_value))\n",
    "#     print(focus_field_value)\n",
    "#     print(type(focus_field_value))\n",
    "#     print(display_field)\n",
    "#     print(type(display_field))\n",
    "#     print(top_n_val)\n",
    "#     print(type(top_n_val))\n",
    "    cols=['made_field_goals', 'made_three_point_field_goals','made_free_throws', \n",
    "      'total_rebounds', 'offensive_rebounds', 'defensive_rebounds', 'assists', \n",
    "      'steals', 'blocks', 'turnovers', 'personal_fouls', 'points_scored', 'minutes_played']\n",
    "    ####\n",
    "    days_ago=int(input_value)\n",
    "    today=dt.date.today()\n",
    "    days_back=today-dt.timedelta(days=days_ago)\n",
    "\n",
    "#     focus_value=focus_field_value\n",
    "    \n",
    "#     calc=calc_value\n",
    "    \n",
    "    if top_n_val=='':\n",
    "        player_sample=5\n",
    "    else:\n",
    "        player_sample=int(top_n_val)\n",
    "\n",
    "    \n",
    "    df_query=fa_df.query(\"date >= @days_back\")\n",
    "    output=df_query.groupby(['name'])[cols].agg(calc_value).reset_index().sort_values(by=[focus_field_value],ascending=False).head(player_sample)\n",
    "    \n",
    "    output.set_index(['name'], inplace=True, drop=True, append=False)\n",
    "    output.reset_index(inplace=False)\n",
    "#     short_df = output.iloc[:,0:len(output)]\n",
    "# #     short_df = output.iloc[:,0:len(output)-1]\n",
    "    \n",
    "    fig=px.imshow(output[display_field], text_auto=True) # was short_df\n",
    "    fig.update_xaxes(side='top')\n",
    "#     fig.title(f'Calculation - {calculation_focus}, focused on {focus_field_value}, for the past {input_value}(s)')\n",
    "    fig.layout.height=800\n",
    "    fig.layout.width=800\n",
    "    \n",
    "    return fig\n"
   ]
  },
  {
   "cell_type": "code",
   "execution_count": 1,
   "id": "a414bbd2",
   "metadata": {
    "scrolled": true
   },
   "outputs": [],
   "source": [
    "if __name__ == '__main__': \n",
    "    app.run(port=8005)"
   ]
  },
  {
   "cell_type": "code",
   "execution_count": 1,
   "id": "9aff28b2",
   "metadata": {},
   "outputs": [],
   "source": [
    "# exit"
   ]
  },
  {
   "cell_type": "code",
   "execution_count": null,
   "id": "013713eb",
   "metadata": {},
   "outputs": [],
   "source": []
  },
  {
   "cell_type": "code",
   "execution_count": null,
   "id": "e60ee5ab",
   "metadata": {},
   "outputs": [],
   "source": []
  },
  {
   "cell_type": "code",
   "execution_count": null,
   "id": "b89661e9",
   "metadata": {},
   "outputs": [],
   "source": []
  }
 ],
 "metadata": {
  "hide_input": false,
  "kernelspec": {
   "display_name": "Python 3 (ipykernel)",
   "language": "python",
   "name": "python3"
  },
  "language_info": {
   "codemirror_mode": {
    "name": "ipython",
    "version": 3
   },
   "file_extension": ".py",
   "mimetype": "text/x-python",
   "name": "python",
   "nbconvert_exporter": "python",
   "pygments_lexer": "ipython3",
   "version": "3.10.6"
  }
 },
 "nbformat": 4,
 "nbformat_minor": 5
}
